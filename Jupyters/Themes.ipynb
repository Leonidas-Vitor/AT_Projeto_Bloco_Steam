{
 "cells": [
  {
   "cell_type": "code",
   "execution_count": null,
   "metadata": {},
   "outputs": [],
   "source": [
    "import json\n",
    "\n",
    "\n",
    "seabornTheme = {'palette':'hls',\n",
    "    'style': {\n",
    "        'figure.facecolor': (0,0,0,0),\n",
    "        'axes.labelcolor': '1',\n",
    "        'xtick.direction': 'out',\n",
    "        'ytick.direction': 'out',\n",
    "        'xtick.color': '1',\n",
    "        'ytick.color': '1',\n",
    "        'axes.axisbelow': True,\n",
    "        'grid.linestyle': '-',\n",
    "        'text.color': '1',\n",
    "        'font.family': ['sans-serif'],\n",
    "        'font.sans-serif': ['Arial','DejaVu Sans','Liberation Sans','Bitstream Vera Sans','sans-serif'],\n",
    "        'lines.solid_capstyle': 'round',\n",
    "        'patch.edgecolor': '0',\n",
    "        'patch.force_edgecolor': True,\n",
    "        'image.cmap': 'rocket',\n",
    "        'xtick.top': False,\n",
    "        'ytick.right': False,\n",
    "        'axes.grid': True,\n",
    "        'axes.facecolor': (0,0,0,0),\n",
    "        'axes.edgecolor':  (0,0,0,0),\n",
    "        'grid.color': '1',\n",
    "        'axes.spines.left': True,\n",
    "        'axes.spines.bottom': True,\n",
    "        'axes.spines.right': True,\n",
    "        'axes.spines.top': True,\n",
    "        'xtick.bottom': False,\n",
    "        'ytick.left': False\n",
    "        },\n",
    "    'plt_rcParams':{'text.color': \"white\",\n",
    "        'axes.labelcolor': \"white\",\n",
    "        'figure.facecolor' : (0.0, 0.0, 0.0, 0.0),\n",
    "        'font.size' : 25,\n",
    "        'legend.facecolor' : (0.33, 0.33, 0.33, 0.33),\n",
    "        'legend.fontsize' : 10}}\n",
    "\n",
    "seabornThemeJson = json.dumps(seabornTheme,indent=4)\n",
    "\n",
    "with open(\"Streamlit/seabornTheme.json\", \"w\") as outfile:\n",
    "    outfile.write(seabornThemeJson)"
   ]
  }
 ],
 "metadata": {
  "kernelspec": {
   "display_name": "base",
   "language": "python",
   "name": "python3"
  },
  "language_info": {
   "name": "python",
   "version": "3.11.5"
  }
 },
 "nbformat": 4,
 "nbformat_minor": 2
}
