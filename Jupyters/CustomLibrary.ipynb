{
 "cells": [
  {
   "cell_type": "code",
   "execution_count": 2,
   "metadata": {},
   "outputs": [
    {
     "name": "stdout",
     "output_type": "stream",
     "text": [
      "Writing C:\\Users\\leoni\\OneDrive\\Documentos\\AT_Projeto_Bloco_Streamlit\\StreamlitCustomLibrary.py\n"
     ]
    }
   ],
   "source": [
    "%%writefile 'C:\\Users\\leoni\\OneDrive\\Documentos\\AT_Projeto_Bloco_Streamlit\\StreamlitCustomLibrary.py'\n",
    "import streamlit as st\n",
    "import json\n",
    "import seaborn as sb\n",
    "import matplotlib.pyplot as plt\n",
    "import pandas as pd\n",
    "\n",
    "def SetPageConfig(title='AT'):\n",
    "    st.set_page_config(\n",
    "        #page_title=title,\n",
    "        layout=\"wide\")\n",
    "\n",
    "def SetTheme():\n",
    "    if 'sb_theme' not in st.session_state:\n",
    "        with open(\"seabornTheme.json\", 'r') as j:\n",
    "            st.session_state['sb_theme'] = json.load(j)\n",
    "    sb.set_theme(palette= st.session_state['sb_theme']['palette'],style= st.session_state['sb_theme']['style'])\n",
    "    plt.rcParams.update(st.session_state['sb_theme']['plt_rcParams'])\n",
    "\n",
    "def ReadCSV(name,path):\n",
    "    if name not in st.session_state:\n",
    "        st.session_state[name] = pd.read_csv(path,engine='pyarrow')\n",
    "    return st.session_state[name]\n",
    "\n",
    "def PreserveCSV(name,df):\n",
    "    if name in st.session_state:\n",
    "        st.session_state[name] = df\n",
    "    return st.session_state[name]\n",
    "\n",
    "def ReadJson(name,path):\n",
    "    if name not in st.session_state:\n",
    "        st.session_state[name] = pd.read_json(path)\n",
    "    return st.session_state[name]\n",
    "\n",
    "def PreserveJson(name,df):\n",
    "    if name in st.session_state:\n",
    "        st.session_state[name] = df\n",
    "    return st.session_state[name]\n",
    "\n",
    "def GetBasicTextMarkdown(font_size: float, text: str, align = 'center'):\n",
    "    return f\"\"\"<p style='text-align: {align}; font-size:{font_size}px;'><b>{text}</b></p>\"\"\""
   ]
  }
 ],
 "metadata": {
  "kernelspec": {
   "display_name": "base",
   "language": "python",
   "name": "python3"
  },
  "language_info": {
   "codemirror_mode": {
    "name": "ipython",
    "version": 3
   },
   "file_extension": ".py",
   "mimetype": "text/x-python",
   "name": "python",
   "nbconvert_exporter": "python",
   "pygments_lexer": "ipython3",
   "version": "3.11.5"
  }
 },
 "nbformat": 4,
 "nbformat_minor": 2
}
