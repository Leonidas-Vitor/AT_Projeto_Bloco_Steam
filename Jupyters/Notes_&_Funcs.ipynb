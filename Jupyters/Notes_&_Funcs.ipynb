{
 "cells": [
  {
   "cell_type": "code",
   "execution_count": 1,
   "metadata": {},
   "outputs": [],
   "source": [
    "import streamlit as st\n",
    "import json\n",
    "import seaborn as sb\n",
    "import matplotlib.pyplot as plt\n",
    "import pandas as pd"
   ]
  },
  {
   "cell_type": "code",
   "execution_count": 48,
   "metadata": {},
   "outputs": [],
   "source": [
    "!pip freeze > requirements.txt"
   ]
  },
  {
   "cell_type": "code",
   "execution_count": null,
   "metadata": {},
   "outputs": [],
   "source": [
    "tags_conjunto = set()\n",
    "def GetTags(tags):\n",
    "    #if (type(tags) == str):\n",
    "        #tags = ast.literal_eval(tags)\n",
    "    try:\n",
    "        for t in tags:\n",
    "            tags_conjunto.add(t)\n",
    "    except Exception as e:\n",
    "        print(tags)\n",
    "#        return False\n",
    "#    except TypeError as te:\n",
    "#        return False\n",
    "\n",
    "df_redux['categories'].apply(lambda t: GetTags(t))\n",
    "\n",
    "for t in tags_conjunto:\n",
    "    print(t)"
   ]
  },
  {
   "cell_type": "markdown",
   "metadata": {},
   "source": [
    "Incluir novos gráficos que demonstrem o estado do dataset e situações problema dos dados"
   ]
  },
  {
   "cell_type": "markdown",
   "metadata": {},
   "source": [
    "Citar os problema de qualidade encontrados (Aquele primeiro filtro, é na verdade um problema de qualidade de relevância)"
   ]
  },
  {
   "cell_type": "markdown",
   "metadata": {},
   "source": [
    "Testar passar log em algumas colunas em vez de eliminar outliers"
   ]
  },
  {
   "cell_type": "markdown",
   "metadata": {},
   "source": [
    "### Alguma página extra se necessário"
   ]
  },
  {
   "cell_type": "code",
   "execution_count": null,
   "metadata": {},
   "outputs": [],
   "source": []
  },
  {
   "cell_type": "markdown",
   "metadata": {},
   "source": [
    "### Configuração (entrada de dados) + Regressão linear"
   ]
  }
 ],
 "metadata": {
  "kernelspec": {
   "display_name": "base",
   "language": "python",
   "name": "python3"
  },
  "language_info": {
   "codemirror_mode": {
    "name": "ipython",
    "version": 3
   },
   "file_extension": ".py",
   "mimetype": "text/x-python",
   "name": "python",
   "nbconvert_exporter": "python",
   "pygments_lexer": "ipython3",
   "version": "3.11.5"
  }
 },
 "nbformat": 4,
 "nbformat_minor": 2
}
