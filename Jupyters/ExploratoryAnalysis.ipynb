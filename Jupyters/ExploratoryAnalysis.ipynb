{
 "cells": [
  {
   "cell_type": "markdown",
   "metadata": {},
   "source": [
    "## Exploratory Analysis"
   ]
  },
  {
   "cell_type": "code",
   "execution_count": 4,
   "metadata": {},
   "outputs": [
    {
     "name": "stdout",
     "output_type": "stream",
     "text": [
      "Overwriting C:\\Users\\leoni\\OneDrive\\Documentos\\AT_Projeto_Bloco_Streamlit\\ExploratoryAnalysis.py\n"
     ]
    }
   ],
   "source": [
    "%%writefile 'C:\\Users\\leoni\\OneDrive\\Documentos\\AT_Projeto_Bloco_Streamlit\\ExploratoryAnalysis.py'\n",
    "import matplotlib.pyplot as plt\n",
    "import numpy as np\n",
    "import pandas as pd\n",
    "import seaborn as sb\n",
    "import streamlit as st\n",
    "import StreamlitCustomLibrary as at_lib\n",
    "\n",
    "at_lib.SetPageConfig()\n",
    "at_lib.SetTheme()\n",
    "\n",
    "st.header('Análise exploratória',divider=True)\n",
    "\n",
    "df_steam = pd.read_csv('SteamDatasetForStreamlitClean.csv',engine='pyarrow')\n",
    "\n",
    "st.dataframe(df_steam.describe())\n",
    "\n",
    "st.divider()\n",
    "\n",
    "fig, ax = plt.subplots(figsize=(15, 5))\n",
    "\n",
    "df_steam_corr = df_steam.corr()\n",
    "sb.heatmap(df_steam_corr, annot=True, fmt='.2f', ax=ax, mask=np.triu(df_steam_corr, k=1))\n",
    "\n",
    "st.divider()\n",
    "\n",
    "fig, axs = plt.subplots(3,3,figsize=(15, 10))\n",
    "\n",
    "nCols = ['total_duration','total_achievements','total_supported_languages','positive_reviews_percent','price',\n",
    "'self_published_percent','commercialization_days']\n",
    "\n",
    "for index, col in enumerate(nCols):\n",
    "    sb.regplot(data=df_steam, x=col, y='total_reviews', ax=axs[index//3, index%3], line_kws={'color':'red'})\n",
    "plt.subplots_adjust(wspace=0.3, hspace=0.3)\n",
    "\n",
    "st.pyplot(fig)\n",
    "\n",
    "st.divider()\n",
    "\n",
    "fig, ax = plt.subplots(figsize=(15, 5))\n",
    "sb.boxplot(data=df_steam[nCols], ax=ax)\n",
    "\n",
    "st.pyplot(fig)\n",
    "\n"
   ]
  }
 ],
 "metadata": {
  "kernelspec": {
   "display_name": "INFNET",
   "language": "python",
   "name": "python3"
  },
  "language_info": {
   "codemirror_mode": {
    "name": "ipython",
    "version": 3
   },
   "file_extension": ".py",
   "mimetype": "text/x-python",
   "name": "python",
   "nbconvert_exporter": "python",
   "pygments_lexer": "ipython3",
   "version": "3.11.5"
  }
 },
 "nbformat": 4,
 "nbformat_minor": 2
}
