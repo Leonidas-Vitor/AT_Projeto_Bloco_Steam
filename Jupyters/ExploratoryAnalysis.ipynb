{
 "cells": [
  {
   "cell_type": "markdown",
   "metadata": {},
   "source": [
    "## Head"
   ]
  },
  {
   "cell_type": "code",
   "execution_count": 510,
   "metadata": {},
   "outputs": [
    {
     "name": "stdout",
     "output_type": "stream",
     "text": [
      "Overwriting C:\\Users\\leoni\\OneDrive\\Documentos\\AT_Projeto_Bloco_Streamlit\\ExploratoryAnalysis.py\n"
     ]
    }
   ],
   "source": [
    "%%writefile 'C:\\Users\\leoni\\OneDrive\\Documentos\\AT_Projeto_Bloco_Streamlit\\ExploratoryAnalysis.py'\n",
    "import matplotlib.pyplot as plt\n",
    "import numpy as np\n",
    "import pandas as pd\n",
    "import seaborn as sb\n",
    "import streamlit as st\n",
    "import StreamlitCustomLibrary as at_lib\n",
    "\n",
    "at_lib.SetPageConfig()\n",
    "at_lib.SetTheme()\n",
    "\n",
    "st.header('Análise exploratória',divider=True)\n",
    "\n",
    "st.markdown(at_lib.GetBasicTextMarkdown(25,\n",
    "    '''\n",
    "    Finalmente com o dataset limpo e pronto para ser utilizado, podemos começar a análise exploratória e identificar\\\n",
    "    as variáveis independentes que mais influenciam na variável dependente, que é o número total de reviews.\n",
    "    '''),unsafe_allow_html=True)\n",
    "\n",
    "df_steam = pd.read_csv('SteamDatasetForStreamlitCleaned.csv',engine='pyarrow')\n",
    "\n",
    "st.markdown(at_lib.GetBasicTextMarkdown(20,\n",
    "    f'''\n",
    "    O dataset atualmente possui {df_steam.shape[0]} linhas e {df_steam.shape[1]} colunas.\n",
    "    '''),unsafe_allow_html=True)\n",
    "\n",
    "df_steam.set_index('id',inplace=True)\n",
    "st.dataframe(df_steam,height=250)\n",
    "\n",
    "st.divider()\n",
    "\n",
    "#nCols = ['total_duration','total_achievements','total_supported_languages','positive_reviews_percent','price', 'self_published_percent','commercialization_days']\n",
    "\n",
    "\n",
    "x_plots = 2\n",
    "y_plots = 3\n",
    "\n"
   ]
  },
  {
   "cell_type": "markdown",
   "metadata": {},
   "source": [
    "## Filtros categóricos"
   ]
  },
  {
   "cell_type": "code",
   "execution_count": 511,
   "metadata": {},
   "outputs": [
    {
     "name": "stdout",
     "output_type": "stream",
     "text": [
      "Appending to C:\\Users\\leoni\\OneDrive\\Documentos\\AT_Projeto_Bloco_Streamlit\\ExploratoryAnalysis.py\n"
     ]
    }
   ],
   "source": [
    "%%writefile -a 'C:\\Users\\leoni\\OneDrive\\Documentos\\AT_Projeto_Bloco_Streamlit\\ExploratoryAnalysis.py'\n",
    "st.subheader('Filtros categóricos',divider=True)\n",
    "\n",
    "tag = st.selectbox(\n",
    "    'Escolha um gênero de jogo',(\n",
    "    'Roguelike Deckbuilder','4X',\n",
    "    'Simulation','Management', #=> Esses dois são juntos\n",
    "    'Open World Survival Craft','City Builder','RPG','Rogue-like','Metroidvania','Dungeon Crawler','Souls-like',\n",
    "    'Visual Novel','Twin Stick Shooter','Horror','Sexual Content','Card Battler','Beat \\'em up','FPS','Shoot \\'Em Up'\n",
    "    'Tower Defense','Match 3','Puzzle-Platformer','Puzzle','2D Platformer','3D Platformer','Battle Royale','Others'),index=7)\n",
    "\n",
    "\n",
    "def ContainTag(tags):\n",
    "    if tag in tags:\n",
    "        return True\n",
    "    return False\n",
    "\n",
    "df_steam = df_steam[df_steam['tags'].apply(ContainTag)]\n",
    "\n",
    "cols = st.columns(3)\n",
    "with cols[0]:\n",
    "    sp = st.checkbox('Incluir jogos com single-player', value=True)\n",
    "    df_steam = df_steam[df_steam['hasSingleplayer'] == sp]\n",
    "with cols[1]:\n",
    "    mp = st.checkbox('Incluir jogos com multi-player', value=True)\n",
    "    df_steam = df_steam[df_steam['hasMultiplayer'] == mp]\n",
    "with cols[2]:\n",
    "    cp =st.checkbox('Incluir jogos com co-op', value=True)\n",
    "    df_steam = df_steam[df_steam['hasCoop'] == cp]\n",
    "\n",
    "\n",
    "df_steam_numerics = df_steam.drop(columns=['name','release_date','tags','main_genre','hasSingleplayer','hasMultiplayer','hasCoop','self_published_percent'])\n"
   ]
  },
  {
   "cell_type": "markdown",
   "metadata": {},
   "source": [
    "## Filtros Numéricos"
   ]
  },
  {
   "cell_type": "code",
   "execution_count": 512,
   "metadata": {},
   "outputs": [
    {
     "name": "stdout",
     "output_type": "stream",
     "text": [
      "Appending to C:\\Users\\leoni\\OneDrive\\Documentos\\AT_Projeto_Bloco_Streamlit\\ExploratoryAnalysis.py\n"
     ]
    }
   ],
   "source": [
    "%%writefile -a 'C:\\Users\\leoni\\OneDrive\\Documentos\\AT_Projeto_Bloco_Streamlit\\ExploratoryAnalysis.py'\n",
    "st.subheader('Filtros',divider=True)\n",
    "\n",
    "st.markdown(at_lib.GetBasicTextMarkdown(25,\n",
    "    '''\n",
    "    Aqui estão alguns controladores para filtrar os dados, removendo outliers de cada coluna. Mais abaixo estão os gráficos\\\n",
    "    que permitem visualizar os dados filtrados. \n",
    "    '''),unsafe_allow_html=True)\n",
    "\n",
    "min_max_total_reviews = st.slider(\"Número total de reviews:\", value=(df_steam_numerics['total_reviews'].min(), df_steam_numerics['total_reviews'].max()))\n",
    "df_steam_numerics = df_steam_numerics[(df_steam_numerics['total_reviews'] >= min_max_total_reviews[0]) & (df_steam_numerics['total_reviews'] <= min_max_total_reviews[1])]\n",
    "\n",
    "cols = st.columns(3)\n",
    "with cols[0]:\n",
    "    min_max_duration = st.slider(\"Duração total:\", value=(df_steam_numerics['total_duration'].min(), df_steam_numerics['total_duration'].max()))\n",
    "    df_steam_numerics = df_steam_numerics[(df_steam_numerics['total_duration'] >= min_max_duration[0]) & (df_steam_numerics['total_duration'] <= min_max_duration[1])]\n",
    "    min_max_positive_reviews_percent = st.slider(\"Porcentagem de reviews positivas:\", value=(df_steam_numerics['positive_reviews_percent'].min(), df_steam_numerics['positive_reviews_percent'].max()))\n",
    "    df_steam_numerics = df_steam_numerics[(df_steam_numerics['positive_reviews_percent'] >= min_max_positive_reviews_percent[0]) & (df_steam_numerics['positive_reviews_percent'] <= min_max_positive_reviews_percent[1])]\n",
    "with cols[1]:\n",
    "    min_max_commercialization_days = st.slider(\"Dias de comercialização:\", value=(df_steam_numerics['commercialization_days'].min(), df_steam_numerics['commercialization_days'].max()))\n",
    "    df_steam_numerics = df_steam_numerics[(df_steam_numerics['commercialization_days'] >= min_max_commercialization_days[0]) & (df_steam_numerics['commercialization_days'] <= min_max_commercialization_days[1])]\n",
    "    min_max_total_supported_languages = st.slider(\"Número de idiomas suportados:\", value=(df_steam_numerics['total_supported_languages'].min(), df_steam_numerics['total_supported_languages'].max()))\n",
    "    df_steam_numerics = df_steam_numerics[(df_steam_numerics['total_supported_languages'] >= min_max_total_supported_languages[0]) & (df_steam_numerics['total_supported_languages'] <= min_max_total_supported_languages[1])]\n",
    "with cols[2]:\n",
    "    min_max_price = st.slider(\"Faixa de preço:\", value=(df_steam_numerics['price'].min(), df_steam_numerics['price'].max()))\n",
    "    df_steam_numerics = df_steam_numerics[(df_steam_numerics['price'] >= min_max_price[0]) & (df_steam_numerics['price'] <= min_max_price[1])]\n",
    "    min_max_total_achievements = st.slider(\"Número de conquistas:\", value=(df_steam_numerics['total_achievements'].min(), df_steam_numerics['total_achievements'].max()))\n",
    "    df_steam_numerics = df_steam_numerics[(df_steam_numerics['total_achievements'] >= min_max_total_achievements[0]) & (df_steam_numerics['total_achievements'] <= min_max_total_achievements[1])]\n",
    "\n",
    "st.markdown(at_lib.GetBasicTextMarkdown(25,f'''Quantidade de jogos restantes no dataset: {df_steam_numerics.shape[0]}'''),unsafe_allow_html=True)\n"
   ]
  },
  {
   "cell_type": "markdown",
   "metadata": {},
   "source": [
    "## Boxplots"
   ]
  },
  {
   "cell_type": "code",
   "execution_count": 513,
   "metadata": {},
   "outputs": [
    {
     "name": "stdout",
     "output_type": "stream",
     "text": [
      "Appending to C:\\Users\\leoni\\OneDrive\\Documentos\\AT_Projeto_Bloco_Streamlit\\ExploratoryAnalysis.py\n"
     ]
    }
   ],
   "source": [
    "%%writefile -a 'C:\\Users\\leoni\\OneDrive\\Documentos\\AT_Projeto_Bloco_Streamlit\\ExploratoryAnalysis.py'\n",
    "st.subheader('Boxplot',divider=True)\n",
    "\n",
    "fig, axs = plt.subplots(x_plots,y_plots,figsize=(15, 10))\n",
    "\n",
    "i  = 0\n",
    "for r in range(x_plots):\n",
    "    for c in range(y_plots):\n",
    "        colName = df_steam_numerics.columns[i]\n",
    "        if colName == 'total_reviews':\n",
    "            i = i + 1\n",
    "            colName = df_steam_numerics.columns[i]\n",
    "        sb.boxplot(data=df_steam_numerics[colName],  ax=axs[r, c], orient='v',color=sb.color_palette()[i % len(sb.color_palette())])\n",
    "        i = i + 1\n",
    "        \n",
    "plt.subplots_adjust(wspace=0.4, hspace=0.2)\n",
    "st.pyplot(fig)"
   ]
  },
  {
   "cell_type": "markdown",
   "metadata": {},
   "source": [
    "## Dispersão"
   ]
  },
  {
   "cell_type": "code",
   "execution_count": 514,
   "metadata": {},
   "outputs": [
    {
     "name": "stdout",
     "output_type": "stream",
     "text": [
      "Appending to C:\\Users\\leoni\\OneDrive\\Documentos\\AT_Projeto_Bloco_Streamlit\\ExploratoryAnalysis.py\n"
     ]
    }
   ],
   "source": [
    "%%writefile -a 'C:\\Users\\leoni\\OneDrive\\Documentos\\AT_Projeto_Bloco_Streamlit\\ExploratoryAnalysis.py'\n",
    "st.subheader('Dispersão',divider=True)\n",
    "\n",
    "fig, axs = plt.subplots(x_plots,y_plots,figsize=(15, 10))\n",
    "\n",
    "i  = 0\n",
    "for r in range(x_plots):\n",
    "    for c in range(y_plots):\n",
    "        if df_steam_numerics.columns[i] == 'total_reviews':\n",
    "            i += 1\n",
    "        sb.regplot(data=df_steam_numerics, x=df_steam_numerics.columns[i], y='total_reviews', ax=axs[r, c],\n",
    "        color= sb.color_palette()[i % len(sb.color_palette())],line_kws={'color':'red'})\n",
    "        i += 1\n",
    "        \n",
    "plt.subplots_adjust(wspace=0.4, hspace=0.3)\n",
    "st.pyplot(fig)"
   ]
  },
  {
   "cell_type": "markdown",
   "metadata": {},
   "source": [
    "## Heatmap"
   ]
  },
  {
   "cell_type": "code",
   "execution_count": 515,
   "metadata": {},
   "outputs": [
    {
     "name": "stdout",
     "output_type": "stream",
     "text": [
      "Appending to C:\\Users\\leoni\\OneDrive\\Documentos\\AT_Projeto_Bloco_Streamlit\\ExploratoryAnalysis.py\n"
     ]
    }
   ],
   "source": [
    "%%writefile -a 'C:\\Users\\leoni\\OneDrive\\Documentos\\AT_Projeto_Bloco_Streamlit\\ExploratoryAnalysis.py'\n",
    "st.subheader('Mapa de calor',divider=True)\n",
    "fig, ax = plt.subplots(figsize=(15, 5))\n",
    "\n",
    "nOrder = list(df_steam_numerics.columns)\n",
    "nOrder.remove('total_reviews')\n",
    "nOrder.append('total_reviews')\n",
    "\n",
    "df_steam_numerics = df_steam_numerics[nOrder]\n",
    "\n",
    "df_steam_corr = df_steam_numerics.corr()\n",
    "sb.heatmap(df_steam_corr, annot=True, fmt='.2f',cmap=sb.color_palette(\"coolwarm\", as_cmap=True), ax=ax, mask=np.triu(df_steam_corr, k=1),vmin=-1, vmax=1)\n",
    "ax.axhline(6, color='yellow', linewidth=2)\n",
    "ax.axhline(7, color='yellow', linewidth=4)\n",
    "\n",
    "st.pyplot(fig)"
   ]
  },
  {
   "cell_type": "markdown",
   "metadata": {},
   "source": [
    "## Export"
   ]
  },
  {
   "cell_type": "code",
   "execution_count": 516,
   "metadata": {},
   "outputs": [
    {
     "name": "stdout",
     "output_type": "stream",
     "text": [
      "Appending to C:\\Users\\leoni\\OneDrive\\Documentos\\AT_Projeto_Bloco_Streamlit\\ExploratoryAnalysis.py\n"
     ]
    }
   ],
   "source": [
    "%%writefile -a 'C:\\Users\\leoni\\OneDrive\\Documentos\\AT_Projeto_Bloco_Streamlit\\ExploratoryAnalysis.py'\n",
    "\n",
    "#df_steam.drop(columns=['hasSingleplayer','hasMultiplayer','hasCoop','self_published_percent','main_genre','tags','name'],inplace=True)\n",
    "\n",
    "st.markdown(at_lib.GetBasicTextMarkdown(20,\n",
    "    f'''\n",
    "    O dataset atualmente possui {df_steam_numerics.shape[0]} linhas e {df_steam_numerics.shape[1]} colunas.\n",
    "    '''),unsafe_allow_html=True)\n",
    "\n",
    "st.dataframe(df_steam_numerics,height=250)\n",
    "\n",
    "st.download_button(\n",
    "    label=\"Baixar o dataset preparado\",\n",
    "    data=df_steam_numerics.to_csv(index=True),\n",
    "    file_name='SteamDatasetForStreamlitReadyForRegression.csv',\n",
    "    mime='text/csv',\n",
    ")"
   ]
  }
 ],
 "metadata": {
  "kernelspec": {
   "display_name": "INFNET",
   "language": "python",
   "name": "python3"
  },
  "language_info": {
   "codemirror_mode": {
    "name": "ipython",
    "version": 3
   },
   "file_extension": ".py",
   "mimetype": "text/x-python",
   "name": "python",
   "nbconvert_exporter": "python",
   "pygments_lexer": "ipython3",
   "version": "3.11.5"
  }
 },
 "nbformat": 4,
 "nbformat_minor": 2
}
