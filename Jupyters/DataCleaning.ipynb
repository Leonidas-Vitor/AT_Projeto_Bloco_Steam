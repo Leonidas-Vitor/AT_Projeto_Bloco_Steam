{
 "cells": [
  {
   "cell_type": "markdown",
   "metadata": {},
   "source": [
    "## Head"
   ]
  },
  {
   "cell_type": "code",
   "execution_count": 6,
   "metadata": {},
   "outputs": [
    {
     "name": "stdout",
     "output_type": "stream",
     "text": [
      "Overwriting C:\\Users\\leoni\\OneDrive\\Documentos\\AT_Projeto_Bloco_Streamlit\\DataCleaning.py\n"
     ]
    }
   ],
   "source": [
    "%%writefile 'C:\\Users\\leoni\\OneDrive\\Documentos\\AT_Projeto_Bloco_Streamlit\\DataCleaning.py'\n",
    "import matplotlib.pyplot as plt\n",
    "import numpy as np\n",
    "import pandas as pd\n",
    "import seaborn as sb\n",
    "import streamlit as st\n",
    "import ast\n",
    "import StreamlitCustomLibrary as at_lib\n",
    "\n",
    "at_lib.SetPageConfig()\n",
    "at_lib.SetTheme()\n",
    "\n",
    "st.header('Preparação dos dados',divider=True)\n",
    "\n",
    "st.text(\n",
    "    '''\n",
    "    Agora que os dados foram estruturados e pré-preparados iremos fazer algumas investigações e limpezas, pois ainda temos apps\\\n",
    "    inadequados para gerar um modelo de regressão linear adequado. \n",
    "    ''')\n",
    "\n",
    "df_steam = pd.read_csv('SteamDatasetForStreamlitPrepared.csv',engine='pyarrow')\n",
    "\n",
    "st.markdown(at_lib.GetBasicTextMarkdown(20,\n",
    "    f'''\n",
    "    O dataset atualmente possui {df_steam.shape[0]} linhas e {df_steam.shape[1]} colunas.\n",
    "    '''),unsafe_allow_html=True)\n",
    "\n",
    "st.dataframe(df_steam,hide_index=True,height=250)\n",
    "\n",
    "st.divider()\n"
   ]
  },
  {
   "cell_type": "markdown",
   "metadata": {},
   "source": [
    "## Remoção dos não jogos"
   ]
  },
  {
   "cell_type": "code",
   "execution_count": 5,
   "metadata": {},
   "outputs": [
    {
     "name": "stdout",
     "output_type": "stream",
     "text": [
      "Appending to C:\\Users\\leoni\\OneDrive\\Documentos\\AT_Projeto_Bloco_Streamlit\\DataCleaning.py\n"
     ]
    }
   ],
   "source": [
    "%%writefile -a 'C:\\Users\\leoni\\OneDrive\\Documentos\\AT_Projeto_Bloco_Streamlit\\DataCleaning.py'\n",
    "st.subheader('Remoção de não jogos',divider=True)"
   ]
  },
  {
   "cell_type": "code",
   "execution_count": null,
   "metadata": {},
   "outputs": [],
   "source": [
    "%%writefile -a 'C:\\Users\\leoni\\OneDrive\\Documentos\\AT_Projeto_Bloco_Streamlit\\DataCleaning.py'\n",
    "\n",
    "st.download_button(\n",
    "    label=\"Baixar o dataset preparado\",\n",
    "    data=df_steam.to_csv(index=False),\n",
    "    file_name='SteamDatasetForStreamlitClean.csv',\n",
    "    mime='text/csv',\n",
    ")"
   ]
  },
  {
   "cell_type": "markdown",
   "metadata": {},
   "source": [
    "- Remover acesso antecipado\n",
    "- Investigar outliers brabos e remover eles\n",
    "- "
   ]
  }
 ],
 "metadata": {
  "kernelspec": {
   "display_name": "INFNET_II",
   "language": "python",
   "name": "python3"
  },
  "language_info": {
   "codemirror_mode": {
    "name": "ipython",
    "version": 3
   },
   "file_extension": ".py",
   "mimetype": "text/x-python",
   "name": "python",
   "nbconvert_exporter": "python",
   "pygments_lexer": "ipython3",
   "version": "3.11.5"
  }
 },
 "nbformat": 4,
 "nbformat_minor": 2
}
