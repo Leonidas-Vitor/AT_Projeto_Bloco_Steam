{
 "cells": [
  {
   "cell_type": "markdown",
   "metadata": {},
   "source": [
    "## Head"
   ]
  },
  {
   "cell_type": "code",
   "execution_count": 13,
   "metadata": {},
   "outputs": [
    {
     "name": "stdout",
     "output_type": "stream",
     "text": [
      "Overwriting C:\\Users\\leoni\\OneDrive\\Documentos\\AT_Projeto_Bloco_Streamlit\\DataCleaning.py\n"
     ]
    }
   ],
   "source": [
    "%%writefile 'C:\\Users\\leoni\\OneDrive\\Documentos\\AT_Projeto_Bloco_Streamlit\\DataCleaning.py'\n",
    "import matplotlib.pyplot as plt\n",
    "import numpy as np\n",
    "import pandas as pd\n",
    "import seaborn as sb\n",
    "import streamlit as st\n",
    "import ast\n",
    "import StreamlitCustomLibrary as at_lib\n",
    "\n",
    "at_lib.SetPageConfig()\n",
    "at_lib.SetTheme()\n",
    "\n",
    "st.header('Preparação dos dados',divider=True)\n",
    "\n",
    "st.markdown(at_lib.GetBasicTextMarkdown(25,\n",
    "    '''\n",
    "    Agora que os dados foram estruturados e pré-preparados iremos fazer algumas investigações e limpezas, pois ainda temos apps\\\n",
    "    inadequados para gerar um modelo de regressão linear adequado.\n",
    "    '''),unsafe_allow_html=True)\n",
    "\n",
    "df_steam = pd.read_csv('SteamDatasetForStreamlitPrepared.csv',engine='pyarrow')\n",
    "st.markdown(at_lib.GetBasicTextMarkdown(20,\n",
    "    f'''\n",
    "    O dataset atualmente possui {df_steam.shape[0]} linhas e {df_steam.shape[1]} colunas.\n",
    "    '''),unsafe_allow_html=True)\n",
    "\n",
    "st.dataframe(df_steam,hide_index=True,height=250)\n",
    "\n",
    "st.divider()\n"
   ]
  },
  {
   "cell_type": "markdown",
   "metadata": {},
   "source": [
    "## Remoção dos não jogos"
   ]
  },
  {
   "cell_type": "code",
   "execution_count": 14,
   "metadata": {},
   "outputs": [
    {
     "name": "stdout",
     "output_type": "stream",
     "text": [
      "Appending to C:\\Users\\leoni\\OneDrive\\Documentos\\AT_Projeto_Bloco_Streamlit\\DataCleaning.py\n"
     ]
    }
   ],
   "source": [
    "%%writefile -a 'C:\\Users\\leoni\\OneDrive\\Documentos\\AT_Projeto_Bloco_Streamlit\\DataCleaning.py'\n",
    "st.subheader('Remoção de não jogos',divider=True)\n",
    "\n",
    "st.markdown(at_lib.GetBasicTextMarkdown(20,\n",
    "    f'''\n",
    "    O dataset ainda possui apps que não são jogos, como softwares de modelagem 3D e utilitários, e por serem classificados\\\n",
    "    pela loja como \\\"game\\\" na antiga coluna \\\"type\\\" eles ainda estão presentes no dataset. Iremos removélos utilizando uma\\\n",
    "    lista de tags normalmente associdas a esses tipos de apps.\n",
    "    '''),unsafe_allow_html=True)\n",
    "\n",
    "st.markdown(at_lib.GetBasicTextMarkdown(20,\n",
    "    f'''\n",
    "    **Lista de tags indevidas:**\\n\n",
    "    {forbiddenTags}\\n\n",
    "    A tag VR foi incluída pois não estamos interessados em jogos de realidade virtual para esse projeto, então aproveitamos\\\n",
    "    a operação para já retirar esse tipo de app do dataset.\n",
    "    '''),unsafe_allow_html=True)\n",
    "\n",
    "forbiddenTags = ['Animation & Modeling','Game Development','Design & Illustration','Video Production',\n",
    "'Utilities','Photo Editing','Software','VR']\n",
    "\n",
    "df_steam['ContainForbiddenTag'] = df_steam['tags'].apply(lambda x: any(tag in x for tag in forbiddenTags))\n",
    "with st.expander('Apps com tags indevidas'):\n",
    "    st.dataframe(df_steam[df_steam['ContainForbiddenTag']==True],hide_index=True,height=250)\n",
    "\n",
    "forbiddenTagCount = df_steam[df_steam['ContainForbiddenTag']==True]['id'].count()\n",
    "forbiddenTagPercent = (forbiddenTagCount/df_steam['id'].count())*100\n",
    "st.metric(label=\"Jogos removidos\", value=f'{forbiddenTagCount}', delta=f'-{forbiddenTagPercent:.2f}%')"
   ]
  },
  {
   "cell_type": "code",
   "execution_count": 15,
   "metadata": {},
   "outputs": [
    {
     "name": "stdout",
     "output_type": "stream",
     "text": [
      "Appending to C:\\Users\\leoni\\OneDrive\\Documentos\\AT_Projeto_Bloco_Streamlit\\DataCleaning.py\n"
     ]
    }
   ],
   "source": [
    "%%writefile -a 'C:\\Users\\leoni\\OneDrive\\Documentos\\AT_Projeto_Bloco_Streamlit\\DataCleaning.py'\n",
    "\n",
    "st.download_button(\n",
    "    label=\"Baixar o dataset preparado\",\n",
    "    data=df_steam.to_csv(index=False),\n",
    "    file_name='SteamDatasetForStreamlitClean.csv',\n",
    "    mime='text/csv',\n",
    ")"
   ]
  },
  {
   "cell_type": "markdown",
   "metadata": {},
   "source": [
    "- Remover acesso antecipado\n",
    "- Investigar outliers brabos e remover eles\n",
    "- "
   ]
  }
 ],
 "metadata": {
  "kernelspec": {
   "display_name": "INFNET_II",
   "language": "python",
   "name": "python3"
  },
  "language_info": {
   "codemirror_mode": {
    "name": "ipython",
    "version": 3
   },
   "file_extension": ".py",
   "mimetype": "text/x-python",
   "name": "python",
   "nbconvert_exporter": "python",
   "pygments_lexer": "ipython3",
   "version": "3.11.5"
  }
 },
 "nbformat": 4,
 "nbformat_minor": 2
}
