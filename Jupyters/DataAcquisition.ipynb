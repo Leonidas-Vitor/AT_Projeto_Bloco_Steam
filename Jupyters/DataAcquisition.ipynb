{
 "cells": [
  {
   "cell_type": "markdown",
   "metadata": {},
   "source": [
    "## Aquisição de dados"
   ]
  },
  {
   "cell_type": "code",
   "execution_count": null,
   "metadata": {},
   "outputs": [],
   "source": [
    "%%writefile Streamlit/Page_1.py\n",
    "import matplotlib.pyplot as plt\n",
    "import numpy as np\n",
    "import pandas as pd\n",
    "import seaborn as sb\n",
    "import streamlit as st\n",
    "import json\n",
    "import os\n",
    "\n",
    "def SetPageConfig(title='AT'):\n",
    "    st.set_page_config(\n",
    "        #page_title=title,\n",
    "        layout=\"wide\")\n",
    "\n",
    "SetPageConfig()\n",
    "\n",
    "def SetTheme():\n",
    "    if 'sb_theme' not in st.session_state:\n",
    "        with open(\"seabornTheme.json\", 'r') as j:\n",
    "            st.session_state['sb_theme'] = json.load(j)\n",
    "    sb.set_theme(palette= st.session_state['sb_theme']['palette'],style= st.session_state['sb_theme']['style'])\n",
    "    plt.rcParams.update(st.session_state['sb_theme']['plt_rcParams'])\n",
    "\n",
    "SetTheme()\n",
    "\n",
    "def GetBasicTextMarkdown(font_size: float, text: str, align = 'center'):\n",
    "    return f\"\"\"<p style='text-align: {align}; font-size:{font_size}px;'><b>{text}</b></p>\"\"\"\n",
    "st.header('Obtenção dos de dados',divider=True)"
   ]
  }
 ],
 "metadata": {
  "language_info": {
   "name": "python"
  }
 },
 "nbformat": 4,
 "nbformat_minor": 2
}
