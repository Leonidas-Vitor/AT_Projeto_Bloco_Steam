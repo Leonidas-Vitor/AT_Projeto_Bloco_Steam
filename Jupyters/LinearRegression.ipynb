{
 "cells": [
  {
   "cell_type": "markdown",
   "metadata": {},
   "source": [
    "## Linear Regression"
   ]
  },
  {
   "cell_type": "code",
   "execution_count": 10,
   "metadata": {},
   "outputs": [
    {
     "name": "stdout",
     "output_type": "stream",
     "text": [
      "Overwriting C:\\Users\\leoni\\OneDrive\\Documentos\\AT_Projeto_Bloco_Streamlit\\LinearRegression.py\n"
     ]
    }
   ],
   "source": [
    "%%writefile 'C:\\Users\\leoni\\OneDrive\\Documentos\\AT_Projeto_Bloco_Streamlit\\LinearRegression.py'\n",
    "import matplotlib.pyplot as plt\n",
    "import numpy as np\n",
    "import pandas as pd\n",
    "import seaborn as sb\n",
    "import streamlit as st\n",
    "from sklearn.model_selection import train_test_split\n",
    "from sklearn.linear_model import LinearRegression\n",
    "from sklearn.metrics import mean_squared_error, mean_absolute_error\n",
    "from sklearn.preprocessing import MinMaxScaler, StandardScaler\n",
    "import StreamlitCustomLibrary as at_lib\n",
    "\n",
    "at_lib.SetPageConfig()\n",
    "at_lib.SetTheme()\n",
    "\n",
    "st.header('Regressão linear',divider=True)\n",
    "\n",
    "#st.warning('''\n",
    "#    O dataset pode demorar um pouco para ser carregado pois se ele não foi processado nas outras páginas ele será todo\\\n",
    "#    processado agora.\n",
    "#    ''', icon=\"⚠️\")\n",
    "\n",
    "#st.markdown(at_lib.GetBasicTextMarkdown(25,\n",
    "#    '''\n",
    "#    Teste2\n",
    "#    '''),unsafe_allow_html=True)\n",
    "\n",
    "df_steam = pd.read_csv('SteamDatasetForStreamlitReadyForRegression.csv',engine='pyarrow')\n",
    "\n",
    "#with st.expander('Dataset não filtrado'):\n",
    "st.markdown(at_lib.GetBasicTextMarkdown(20,\n",
    "    f'''\n",
    "    O dataset atualmente possui {df_steam.shape[0]} linhas e {df_steam.shape[1]} colunas.\n",
    "    '''),unsafe_allow_html=True)\n",
    "    \n",
    "st.dataframe(df_steam,height=250,use_container_width=True)\n",
    "\n",
    "\n",
    "#---------------- Faltou lugar para upar um novo csv\n",
    "\n",
    "with st.expander('Dataset preparado'):\n",
    "    st.markdown(at_lib.GetBasicTextMarkdown(20,\n",
    "        f'''\n",
    "        O dataset atualmente possui {df_steam.shape[0]} linhas e {df_steam.shape[1]} colunas.\n",
    "        '''),unsafe_allow_html=True)\n",
    "        \n",
    "    st.dataframe(df_steam,hide_index=True,height=250)\n",
    "\n",
    "st.table(df_steam.describe())\n",
    "\n",
    "x = df_steam.drop(columns=['total_reviews','tags','id','name','release_date','main_genre','isEarlyAcess',\n",
    "'hasSingleplayer','hasMultiplayer','hasCoop',''])\n",
    "y = df_steam['total_reviews']\n",
    "\n",
    "\n",
    "num_repeats = 500\n",
    "mse_scores = []\n",
    "mae_scores = []\n",
    "\n",
    "\n",
    "for _ in range(num_repeats):\n",
    "\n",
    "\n",
    "    x_train, x_test, y_train, y_test = train_test_split(x, y, test_size=0.3)\n",
    "\n",
    "    MinMax_scaler = MinMaxScaler()\n",
    "\n",
    "    # Aplicando o Scaler\n",
    "    x_train_scaled = MinMax_scaler.fit_transform(x_train)\n",
    "    x_test_scaled =  MinMax_scaler.fit_transform(x_test)\n",
    "\n",
    "    modelo_regressao = LinearRegression()\n",
    "    modelo_regressao.fit(x_train_scaled, y_train)\n",
    "\n",
    "    y_pred = modelo_regressao.predict(x_test_scaled)\n",
    "\n",
    "    mse = mean_squared_error(y_test, y_pred)\n",
    "    mse.append(mse)\n",
    "    #rmse = np.sqrt(mse)\n",
    "    mae = mean_absolute_error(y_test, y_pred)\n",
    "    mae.append(mae)\n",
    "\n",
    "#with st.expander('Grupos de treino e teste escalonados'):\n",
    "#    columns = st.columns([0.5,0.5])\n",
    "#    with columns[0]:\n",
    "#        st.text('Grupo de treino escalonado')\n",
    "#        st.table(x_train_scaled)\n",
    "#    with columns[1]:\n",
    "#        st.text('Grupo de teste escalonado')\n",
    "#        st.table(x_test_scaled)\n",
    "#st.dataframe(x_train_scaled,hide_index=True,height=250)\n",
    "\n",
    "\n",
    "#st.text(f\"Mean Squared Error: {mse}\")\n",
    "\n",
    "cols = st.columns([0.15,0.3,0.3,0.3])\n",
    "#Possui dados de categoria?\n",
    "with cols[1]:\n",
    "    st.metric(label=f\"MSE médio de {num_repeats} repetições\", value=f'{np.mean(mse_scores):.2f}')\n",
    "with cols[2]:\n",
    "    st.metric(label=\"RMSE de {num_repeats} repetições\", value=f'{np.sqrt(np.mean(mse_scores)):.2f}')\n",
    "with cols[3]:\n",
    "    st.metric(label=\"MAE de {num_repeats} repetições\", value=f'{np.mean(mae_scores):.2f}')\n"
   ]
  },
  {
   "cell_type": "markdown",
   "metadata": {},
   "source": [
    "## Gráficos"
   ]
  },
  {
   "cell_type": "code",
   "execution_count": 11,
   "metadata": {},
   "outputs": [
    {
     "name": "stdout",
     "output_type": "stream",
     "text": [
      "Appending to C:\\Users\\leoni\\OneDrive\\Documentos\\AT_Projeto_Bloco_Streamlit\\LinearRegression.py\n"
     ]
    }
   ],
   "source": [
    "%%writefile -a 'C:\\Users\\leoni\\OneDrive\\Documentos\\AT_Projeto_Bloco_Streamlit\\LinearRegression.py'\n",
    "st.subheader('Gráficos',divider=True)\n",
    "\n",
    "with st.expander('Gráficos de Dispersão'):\n",
    "    for col in x_test.columns:\n",
    "        if col == '':\n",
    "            continue\n",
    "        fig, ax = plt.subplots(figsize=(10,5))\n",
    "        sb.scatterplot(x=x_test[col], y=y_test, color='yellow', label='Real',ax = ax,alpha=0.5)\n",
    "        sb.scatterplot(x=x_test[col], y=y_pred, color='blue', label='Previsto',ax = ax,alpha=0.5)\n",
    "        ax.ticklabel_format(style='plain', axis='both')\n",
    "        st.pyplot(fig)\n",
    "\n",
    "with st.expander('Gráficos de regressão'):\n",
    "    for col in x_test.columns:\n",
    "        if col == '':\n",
    "            continue\n",
    "        st.text(col)\n",
    "        fig, ax = plt.subplots(figsize=(10,5))\n",
    "        df_resultado = pd.DataFrame({col: x_test[col], 'Real': y_test, 'Previsto': y_pred})\n",
    "        t = sb.lmplot(data=df_resultado,x=col, y='Previsto', aspect=2, height=6)\n",
    "        sb.scatterplot(x=x_test[col], y=y_test, color='yellow', label='Real',ax = t.ax,alpha=0.5)\n",
    "        st.pyplot(t)\n",
    "\n",
    "with st.expander('Gráfico de Resíduos'):\n",
    "    for col in x_test.columns:\n",
    "        if col == '':\n",
    "            continue\n",
    "        fig, ax = plt.subplots(figsize=(10,5))\n",
    "        residuos = y_test - y_pred\n",
    "        sb.scatterplot(x=x_test[col], y=residuos,ax = ax)\n",
    "        st.pyplot(fig)"
   ]
  }
 ],
 "metadata": {
  "kernelspec": {
   "display_name": "base",
   "language": "python",
   "name": "python3"
  },
  "language_info": {
   "codemirror_mode": {
    "name": "ipython",
    "version": 3
   },
   "file_extension": ".py",
   "mimetype": "text/x-python",
   "name": "python",
   "nbconvert_exporter": "python",
   "pygments_lexer": "ipython3",
   "version": "3.11.5"
  }
 },
 "nbformat": 4,
 "nbformat_minor": 2
}
