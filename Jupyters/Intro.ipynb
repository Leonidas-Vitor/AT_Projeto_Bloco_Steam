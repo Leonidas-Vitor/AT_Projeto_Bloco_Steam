{
 "cells": [
  {
   "cell_type": "code",
   "execution_count": 7,
   "metadata": {},
   "outputs": [],
   "source": [
    "#!pip freeze > requirement.txt"
   ]
  },
  {
   "cell_type": "code",
   "execution_count": 8,
   "metadata": {},
   "outputs": [
    {
     "name": "stdout",
     "output_type": "stream",
     "text": [
      "Overwriting C:\\Users\\leoni\\OneDrive\\Documentos\\AT_Projeto_Bloco_Streamlit\\Intro.py\n"
     ]
    }
   ],
   "source": [
    "%%writefile 'C:\\Users\\leoni\\OneDrive\\Documentos\\AT_Projeto_Bloco_Streamlit\\Intro.py'\n",
    "import seaborn as sb\n",
    "import matplotlib.pyplot as plt\n",
    "from st_pages import Page, show_pages, add_page_title\n",
    "import streamlit as st\n",
    "import StreamlitCustomLibrary as at_lib\n",
    "\n",
    "at_lib.SetPageConfig()\n",
    "at_lib.SetTheme()\n",
    "\n",
    "#st.text(__file__)\n",
    "    \n",
    "#add_page_title()\n",
    "show_pages(\n",
    "    [\n",
    "        Page('Intro.py','Introdução',\":memo:\"),\n",
    "#        Page('DataAcquisition.py','Aquisição de dados',\":building_construction:\"),\n",
    "        Page('DataInspection.py','Conhecendo a base de dados',\":mag:\"),\n",
    "        Page('DataPreparation.py','Preparação dos dados',\":wrench:\"),\n",
    "        Page('DataCleaning.py','Limpeza dos dados',':broom:'),\n",
    "        Page('ExploratoryAnalysis.py','Análise exploratória',\":bar_chart:\"),\n",
    "        Page('LinearRegression.py','Regressão linear',\":bulb:\"),\n",
    "        #Page('Conclusion.py','Conclusão',\":clap:\")\n",
    "        #Page('Problems.py','Problemas',\":books:\") #-> Passar para cá o relatório de problemas de qualidade de dados e etc?\n",
    "    ]\n",
    ")\n",
    "\n",
    "html_p = \"\"\"<p style='text-align: center; font-size:%spx;'><b>%s</b></p>\"\"\"\n",
    "\n",
    "st.markdown('''<h1 style='text-align: center; '><b>INSTITUTO INFNET</b></h1>''',unsafe_allow_html = True)\n",
    "st.markdown(html_p % tuple([35,\"ESCOLA SUPERIOR DE TECNOLOGIA\"]),unsafe_allow_html=True)\n",
    "st.markdown(html_p % tuple([35,\"AT - Projeto de Bloco II\"]),unsafe_allow_html=True)\n",
    "st.divider()\n",
    "\n",
    "github_link = '''https://github.com/Leonidas-Vitor/AT_Projeto_Bloco_Streamlit'''\n",
    "email = '''leonidas.almeida@al.infnet.edu.br'''\n",
    "\n",
    "columns = st.columns([0.6,0.4])\n",
    "with columns[0]:\n",
    "    st.markdown(html_p % tuple([25,'Aluno: Leônidas Almeida']),unsafe_allow_html = True)\n",
    "    st.markdown(html_p % tuple([25,f'E-mail: <a href= mailto:{email}>{email}</a>']),unsafe_allow_html = True)\n",
    "    st.markdown(html_p % tuple([25,f'GitHub: <a href={github_link}>Link para o repositório</a>']),unsafe_allow_html = True)\n",
    "    st.markdown(html_p % tuple([25,'Introdução:']),unsafe_allow_html = True)\n",
    "    st.markdown('''\n",
    "        Esta aplicação foi criada com o propósito de analisar os jogos da loja Steam e então \\\n",
    "        estimar quantas vendas um novo jogo hipotético teria, baseado em suas principais \\\n",
    "        características e então avaliar se vale o investimento nele ou não.\n",
    "    ''')\n",
    "    st.markdown(''' O modelo de regressão linear foi escolhido por ser um modelo simples e de \\\n",
    "        fácil interpretação, a avaliação do modelo será feita através das métricas de MSE, RMSE \\\n",
    "        e MAE.\n",
    "    ''')\n",
    "with columns[1]:\n",
    "    st.image('Infnet_logo.png',width=400)\n",
    "\n",
    "#at_lib.ReadCSV('df_redux','SteamDatasetForStreamlit.csv')\n",
    "\n",
    "tabs = st.tabs(['Navegação','Informes','Observações'])\n",
    "\n",
    "with tabs[0]:\n",
    "    st.write('''A aplicação foi organizada em páginas, que podem ser acessadas pela barra lateral à esquerda.''')\n",
    "with tabs[1]:\n",
    "    st.write('''Para tornar a aplicação mais rápida os dados a medida que eram processados foram salvos em um arquivo csv,\n",
    "    que são carregados a cada página, ao final de cada página que altera os dados é possível baixar o arquivo csv da manipulação\n",
    "    resultante. Na página de análise exploratória que é mais interativa, é possível manter os dados resultantes da interação \n",
    "    na memória e então utilizá-los na página de regressão linear.''')\n",
    "with tabs[2]:\n",
    "    st.markdown('''<p>\n",
    "    Infelizmente não foi possível terminar totalmente esse trabalho/estudo a tempo, por isso algumas funcionalidades\\\n",
    "    não estão disponíveis, como a página sobre a aquisição dos dados e algumas funcionalidades da página de regressão linear.\n",
    "    O trabalho será aprimorado nos próximos dias/semanas para que atinja o nível esperado.\n",
    "    </P>\n",
    "    ''',unsafe_allow_html=True)\n",
    "#st.divider()\n"
   ]
  }
 ],
 "metadata": {
  "kernelspec": {
   "display_name": "base",
   "language": "python",
   "name": "python3"
  },
  "language_info": {
   "codemirror_mode": {
    "name": "ipython",
    "version": 3
   },
   "file_extension": ".py",
   "mimetype": "text/x-python",
   "name": "python",
   "nbconvert_exporter": "python",
   "pygments_lexer": "ipython3",
   "version": "3.11.5"
  }
 },
 "nbformat": 4,
 "nbformat_minor": 2
}
